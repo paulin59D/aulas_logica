{
 "cells": [
  {
   "cell_type": "code",
   "execution_count": null,
   "metadata": {},
   "outputs": [],
   "source": [
    "#atividade 1\n",
    "Crie uma lista de filmes com 7 filmes a sua escolha, e faça as seguintes operações com ela:\n",
    "• Exiba apenas o primeiro o filme da lista\n",
    "• Exiba o filme da posição 4\n",
    "• Substitua o filme da última posição e exiba a lista\n",
    "• Insira um novo filme no final da lista e exiba a lista\n",
    "• Insira um novo filme na posição 5 e exiba a lista\n",
    "• Exclua o primeiro filme e exiba a lista\n",
    "• Exclua o último filme e exiba a lista\n",
    "• Exiba os 3 primeiros filmes da lista\n",
    "• Exiba os 4 últimos filmes da lista\n",
    "• Exiba a quantidade de filmes atualmente na lista\n",
    "• Ordene os filmes em ordem decrescente e exiba-os"
   ]
  },
  {
   "cell_type": "code",
   "execution_count": 27,
   "metadata": {},
   "outputs": [
    {
     "name": "stdout",
     "output_type": "stream",
     "text": [
      "sharkboy e lavaguirl\n",
      "dadpool\n",
      "['sharkboy e lavaguirl', 'velozes e furiosos', 'segredo dos animais', 'dadpool', 'homem aranha', 'vingadores', 'dora aventureira', 'barbie sereia']\n",
      "['sharkboy e lavaguirl', 'velozes e furiosos', 'segredo dos animais', 'dadpool', 'homem aranha', 'vingadores', 'dora aventureira', 'barbie sereia', 'barbie sereira']\n",
      "vingadores\n",
      "['velozes e furiosos', 'segredo dos animais', 'dadpool', 'homem aranha', 'vingadores', 'dora aventureira', 'barbie sereia', 'barbie sereira']\n",
      "['velozes e furiosos', 'segredo dos animais', 'dadpool', 'homem aranha', 'vingadores', 'dora aventureira', 'barbie sereira']\n",
      "['velozes e furiosos', 'segredo dos animais', 'dadpool']\n",
      "['homem aranha', 'vingadores', 'dora aventureira', 'barbie sereira']\n",
      "7\n",
      "['barbie sereira', 'dora aventureira', 'vingadores', 'homem aranha', 'dadpool', 'segredo dos animais', 'velozes e furiosos']\n"
     ]
    }
   ],
   "source": [
    "#atividade 1\n",
    "filme = ['sharkboy e lavaguirl', 'velozes e furiosos', 'segredo dos animais', 'dadpool', 'homem aranha', 'vingadores', 'barbie sereia']\n",
    "print(filme [0]) #1\n",
    "print(filme [3]) #2\n",
    "filme.insert(6, 'dora aventureira')\n",
    "print(filme) #3\n",
    "filme.append('barbie sereira')\n",
    "print(filme) #4\n",
    "print(filme [5]) #5\n",
    "filme.pop(0)\n",
    "print(filme) #6\n",
    "filme.pop(6)\n",
    "print(filme) #7\n",
    "print(filme[0:3])#8\n",
    "print(filme[-4:])#9\n",
    "print(len(filme)) #10\n",
    "filme.reverse()\n",
    "print(filme)\n",
    "\n",
    "\n"
   ]
  },
  {
   "cell_type": "markdown",
   "metadata": {},
   "source": [
    "#atividade 2\n",
    "Crie uma lista com os 20 times do campeonato brasileiro de futebol\n",
    "• Exiba o primeiro time da lista como campeão\n",
    "• Exiba os 4 primeiros times como que irão jogar a libertadores\n",
    "• Exiba os 4 últimos times como os que estão rebaixados para a série B"
   ]
  },
  {
   "cell_type": "code",
   "execution_count": null,
   "metadata": {},
   "outputs": [],
   "source": [
    "#atividade 2\n",
    "times = 'Palmeiras', 'Atlético-MG', 'Flamengo', 'Grêmio', 'Botafogo', 'Red Bull Bragantino', 'Fluminense', 'Athletico-PR', 'Internacional', 'Fortaleza', 'São Paulo', 'Cuiabá', 'Corinthians', 'Cruzeiro', 'Vasco', 'Bahia', 'Vitória', 'Juventude', 'Criciúma', 'Atlético-GO'\n",
    "print(times [0:3])\n",
    "times.append('Atlético-MG, Botafogo, Flamengo, Fluminense')\n",
    "print(times)"
   ]
  },
  {
   "cell_type": "markdown",
   "metadata": {},
   "source": []
  },
  {
   "cell_type": "code",
   "execution_count": null,
   "metadata": {},
   "outputs": [],
   "source": []
  }
 ],
 "metadata": {
  "kernelspec": {
   "display_name": "Python 3",
   "language": "python",
   "name": "python3"
  },
  "language_info": {
   "codemirror_mode": {
    "name": "ipython",
    "version": 3
   },
   "file_extension": ".py",
   "mimetype": "text/x-python",
   "name": "python",
   "nbconvert_exporter": "python",
   "pygments_lexer": "ipython3",
   "version": "3.12.2"
  }
 },
 "nbformat": 4,
 "nbformat_minor": 2
}
