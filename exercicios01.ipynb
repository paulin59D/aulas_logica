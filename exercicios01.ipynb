{
 "cells": [
  {
   "cell_type": "code",
   "execution_count": 35,
   "metadata": {},
   "outputs": [
    {
     "name": "stdout",
     "output_type": "stream",
     "text": [
      "c é a muie do mn?\n"
     ]
    }
   ],
   "source": [
    "#0\n",
    "frase = (input('qual sua frase'))\n",
    "print (f'{frase}')"
   ]
  },
  {
   "cell_type": "code",
   "execution_count": 1,
   "metadata": {},
   "outputs": [
    {
     "name": "stdout",
     "output_type": "stream",
     "text": [
      "7\n"
     ]
    }
   ],
   "source": [
    "#1 \n",
    "n1 = 5\n",
    "n2 = 2\n",
    "soma = n1 + n2\n",
    "print(soma)"
   ]
  },
  {
   "cell_type": "code",
   "execution_count": 16,
   "metadata": {},
   "outputs": [
    {
     "name": "stdout",
     "output_type": "stream",
     "text": [
      "11 e seu antecessor e 13 é seu sucessor\n"
     ]
    }
   ],
   "source": [
    "#2\n",
    "numero = int(input('qual valor'))\n",
    "ant = numero - 1\n",
    "sucessor = numero + 1\n",
    "print (f'{ant} e seu antecessor e {sucessor} é seu sucessor')"
   ]
  },
  {
   "cell_type": "code",
   "execution_count": 33,
   "metadata": {},
   "outputs": [
    {
     "name": "stdout",
     "output_type": "stream",
     "text": [
      "32 e o seu dobro, 48 é o seu triplo e 4.0 é sua raiz\n"
     ]
    }
   ],
   "source": [
    "#3\n",
    "numero = int(input('qual valor'))\n",
    "dobro = numero * 2\n",
    "triplo = numero * 3\n",
    "raiz = numero ** 0.5\n",
    "print (f'{dobro} e o seu dobro, {triplo} é o seu triplo e {raiz} é sua raiz')"
   ]
  },
  {
   "cell_type": "code",
   "execution_count": 3,
   "metadata": {},
   "outputs": [
    {
     "name": "stdout",
     "output_type": "stream",
     "text": [
      "8.5\n"
     ]
    }
   ],
   "source": [
    "#4\n",
    "n1 = 7 \n",
    "n2 = 10\n",
    "media = (n1 + n2) / 2\n",
    "print(media)"
   ]
  },
  {
   "cell_type": "code",
   "execution_count": 2,
   "metadata": {},
   "outputs": [
    {
     "name": "stdout",
     "output_type": "stream",
     "text": [
      "tabuada do 50\n",
      "50 x 1 = 50 \n",
      "50 x 2 = 100 \n",
      "50 x 3 = 150 \n",
      "50 x 4 = 200 \n",
      "50 x 5 = 250 \n",
      "50 x 6 = 300 \n",
      "50 x 7 = 350 \n",
      "50 x 8 = 400 \n",
      "50 x 9 = 450 \n",
      "50 x 10 = 500 \n"
     ]
    }
   ],
   "source": [
    "6#\n",
    "nr = int(input('qual numero'))\n",
    "print (f'tabuada do {nr}')\n",
    "v1 = nr * 1\n",
    "v2 = nr * 2\n",
    "v3 = nr * 3\n",
    "v4 = nr * 4\n",
    "v5 = nr * 5\n",
    "v6 = nr * 6\n",
    "v7 = nr * 7\n",
    "v8 = nr * 8\n",
    "v9 = nr * 9\n",
    "v10 = nr * 10\n",
    "print (f'{nr} x 1 = {v1} ')\n",
    "print (f'{nr} x 2 = {v2} ')\n",
    "print (f'{nr} x 3 = {v3} ')\n",
    "print (f'{nr} x 4 = {v4} ')\n",
    "print (f'{nr} x 5 = {v5} ')\n",
    "print (f'{nr} x 6 = {v6} ')\n",
    "print (f'{nr} x 7 = {v7} ')\n",
    "print (f'{nr} x 8 = {v8} ')\n",
    "print (f'{nr} x 9 = {v9} ')\n",
    "print (f'{nr} x 10 = {v10} ')"
   ]
  },
  {
   "cell_type": "code",
   "execution_count": 7,
   "metadata": {},
   "outputs": [
    {
     "name": "stdout",
     "output_type": "stream",
     "text": [
      "512 reais em dolar é igual a 102.4\n"
     ]
    }
   ],
   "source": [
    "#7\n",
    "numero = int(input('quantos reais'))\n",
    "d_p_r = numero / 5\n",
    "print (f'{numero} reais em dolar é igual a {d_p_r}')"
   ]
  },
  {
   "cell_type": "code",
   "execution_count": null,
   "metadata": {},
   "outputs": [],
   "source": []
  },
  {
   "cell_type": "code",
   "execution_count": 8,
   "metadata": {},
   "outputs": [
    {
     "name": "stdout",
     "output_type": "stream",
     "text": [
      "`32.0°C e igual a 89.6°F\n"
     ]
    }
   ],
   "source": [
    "#11S\n",
    "graus = float(input('digite a temperatura'))\n",
    "valor = graus * 1.8 + 32\n",
    "print(f'`{graus}°C e igual a {valor}°F')"
   ]
  },
  {
   "cell_type": "code",
   "execution_count": 9,
   "metadata": {},
   "outputs": [
    {
     "name": "stdout",
     "output_type": "stream",
     "text": [
      "o valor total sera de R$301.50\n"
     ]
    }
   ],
   "source": [
    "#12\n",
    "km_percorrido = float(input('digite o km percorrido:'))\n",
    "dias = float(input('digite a quantidade de dias:'))\n",
    "pagar = (60 * dias) + (0.15 * km_percorrido)\n",
    "print (f'o valor total sera de R${pagar:.2f}')"
   ]
  },
  {
   "cell_type": "markdown",
   "metadata": {},
   "source": []
  },
  {
   "cell_type": "code",
   "execution_count": 20,
   "metadata": {},
   "outputs": [
    {
     "name": "stdout",
     "output_type": "stream",
     "text": [
      "False\n",
      "False\n"
     ]
    }
   ],
   "source": [
    "a = 2 \n",
    "b = 3\n",
    "print(a>b)\n",
    "print(a==b)\n"
   ]
  },
  {
   "cell_type": "code",
   "execution_count": 28,
   "metadata": {},
   "outputs": [
    {
     "ename": "IndentationError",
     "evalue": "unexpected indent (553686883.py, line 3)",
     "output_type": "error",
     "traceback": [
      "\u001b[1;36m  Cell \u001b[1;32mIn[28], line 3\u001b[1;36m\u001b[0m\n\u001b[1;33m    print (posso entrar)\u001b[0m\n\u001b[1;37m    ^\u001b[0m\n\u001b[1;31mIndentationError\u001b[0m\u001b[1;31m:\u001b[0m unexpected indent\n"
     ]
    }
   ],
   "source": [
    "tenho_ingresso = False\n",
    "iftenho_ingresso == True\n",
    "    print (posso entrar)\n",
    "print('fim')"
   ]
  },
  {
   "cell_type": "code",
   "execution_count": 29,
   "metadata": {},
   "outputs": [
    {
     "ename": "SyntaxError",
     "evalue": "expected ':' (187400248.py, line 4)",
     "output_type": "error",
     "traceback": [
      "\u001b[1;36m  Cell \u001b[1;32mIn[29], line 4\u001b[1;36m\u001b[0m\n\u001b[1;33m    if idade >= 18\u001b[0m\n\u001b[1;37m                  ^\u001b[0m\n\u001b[1;31mSyntaxError\u001b[0m\u001b[1;31m:\u001b[0m expected ':'\n"
     ]
    }
   ],
   "source": [
    " # passo 1: receber o valor da idade\n",
    " idade = int(input('qual sua idade'))\n",
    " #passo 2: verificar se e maior ou igual a 18\n",
    "if idade >= 18\n",
    " #passo 3:se for exibir ''maior de idade\n",
    "    print('maior idade')\n",
    "\n",
    "else :\n",
    "   print('menor de idade')\n",
    "   print('Fim')\n"
   ]
  },
  {
   "cell_type": "code",
   "execution_count": 40,
   "metadata": {},
   "outputs": [
    {
     "name": "stdout",
     "output_type": "stream",
     "text": [
      "aprovado\n",
      "missão pasassed!\n"
     ]
    }
   ],
   "source": [
    "#1\n",
    "nota = int(input('qual a nota'))\n",
    "if nota >= 7:\n",
    "    print('aprovado')\n",
    "    print('missão pasassed!')\n",
    "\n",
    "else:\n",
    "   print('reprovado')\n",
    "   print('se fodeo')\n"
   ]
  },
  {
   "cell_type": "code",
   "execution_count": 6,
   "metadata": {},
   "outputs": [
    {
     "name": "stdout",
     "output_type": "stream",
     "text": [
      "n1 e menor que n2\n"
     ]
    }
   ],
   "source": [
    "#2\n",
    "n1 = int(input('qual é o 1° numero'))\n",
    "n2 = int(input('qual e o 2° numero'))\n",
    "if n1 > n2 :\n",
    "    print('n1 e maior que n2')\n",
    "else : \n",
    "    print('n1 e menor que n2')"
   ]
  },
  {
   "cell_type": "code",
   "execution_count": 10,
   "metadata": {},
   "outputs": [
    {
     "name": "stdout",
     "output_type": "stream",
     "text": [
      "par\n"
     ]
    }
   ],
   "source": [
    "#3 \n",
    "numero = int(input('digite o numero'))\n",
    "if numero % 2:\n",
    "    print('impar')\n",
    "else : \n",
    "    print('par')"
   ]
  },
  {
   "cell_type": "code",
   "execution_count": 11,
   "metadata": {},
   "outputs": [
    {
     "name": "stdout",
     "output_type": "stream",
     "text": [
      "numero e positivo\n"
     ]
    }
   ],
   "source": [
    "#4\n",
    "numeroint = int(input('qual e o numero'))\n",
    "if numeroint < 0:\n",
    "    print(f'o numero e negativo')\n",
    "else :\n",
    "    print('numero e positivo')"
   ]
  },
  {
   "cell_type": "code",
   "execution_count": 13,
   "metadata": {},
   "outputs": [
    {
     "name": "stdout",
     "output_type": "stream",
     "text": [
      "voce e maior de idade\n"
     ]
    }
   ],
   "source": [
    "#5 \n",
    "nascimento = int(input('em q ano vbc nasceu'))\n",
    "if nascimento < 2006:\n",
    "    print(f'voce e maior de idade')\n",
    "else : \n",
    "    print(f'voce e menor de idade')"
   ]
  },
  {
   "cell_type": "code",
   "execution_count": null,
   "metadata": {},
   "outputs": [],
   "source": [
    "#6 \n",
    "prim = int(input('qual e o primero numero'))\n",
    "segun = int(input('qual e o segundo numero'))\n",
    "if prim == segun:\n",
    "    print('os dois numeros são iguais')\n",
    "else: \n",
    "    print ('os 2 numeros são diferentes')"
   ]
  },
  {
   "cell_type": "code",
   "execution_count": 6,
   "metadata": {},
   "outputs": [
    {
     "name": "stdout",
     "output_type": "stream",
     "text": [
      "voce foi multado\n",
      "70.0\n"
     ]
    }
   ],
   "source": [
    "#7\n",
    "vel = float(input('qual a velocidade do carro'))\n",
    "if vel > 80:\n",
    "    print('voce foi multado')\n",
    "    print(((vel - 80) * 7))\n",
    "\n",
    "else:\n",
    " print('voce esta correto')"
   ]
  },
  {
   "cell_type": "code",
   "execution_count": null,
   "metadata": {},
   "outputs": [],
   "source": []
  },
  {
   "cell_type": "code",
   "execution_count": 12,
   "metadata": {},
   "outputs": [
    {
     "name": "stdout",
     "output_type": "stream",
     "text": [
      "peso ideal\n"
     ]
    }
   ],
   "source": [
    "altura = float(input('digite sua altura'))\n",
    "peso = float(input('digite seu peso'))\n",
    "imc = peso / (altura ** 2)\n",
    "if imc < 18.5 :\n",
    "    print('abaixo do peso ideal')\n",
    "elif imc >= 18.5:\n",
    "    print('peso ideal')\n",
    "elif imc >= 25 and imc <= 29.9:\n",
    "    print('sobrepeso')\n",
    "else :\n",
    "    print('gordo imenso')"
   ]
  },
  {
   "cell_type": "code",
   "execution_count": null,
   "metadata": {},
   "outputs": [],
   "source": [
    "lado1 = input('Digite lado 1')\n",
    "lado2 = input('Digite lado 2')\n",
    "lado3 = input('Digite lado 3')\n",
    "if(lado1==lado2) and (lado2==lado3):\n",
    "    print('Triangulo Equilátero')\n",
    "elif(lado1!=lado2) and (lado2!=lado3) and (lado1!=lado3):\n",
    "    print('Triangulo escaleno')\n",
    "else:\n",
    "    print('Triangulo isósceles')"
   ]
  },
  {
   "cell_type": "code",
   "execution_count": null,
   "metadata": {},
   "outputs": [],
   "source": [
    "letra = input('digite a letra')\n",
    "if letra == 'a' or letra 'e' or letra 'i' or letra 'o' or letra 'u'"
   ]
  }
 ],
 "metadata": {
  "kernelspec": {
   "display_name": "Python 3",
   "language": "python",
   "name": "python3"
  },
  "language_info": {
   "codemirror_mode": {
    "name": "ipython",
    "version": 3
   },
   "file_extension": ".py",
   "mimetype": "text/x-python",
   "name": "python",
   "nbconvert_exporter": "python",
   "pygments_lexer": "ipython3",
   "version": "3.12.2"
  }
 },
 "nbformat": 4,
 "nbformat_minor": 2
}
