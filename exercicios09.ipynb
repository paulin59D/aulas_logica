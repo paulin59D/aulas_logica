{
 "cells": [
  {
   "cell_type": "code",
   "execution_count": null,
   "metadata": {},
   "outputs": [],
   "source": [
    "#1\n",
    "def linha () :\n",
    "    print('*' * 50 )\n",
    "    print('seja bem vindo')\n",
    "\n",
    "linha ()\n",
    "linha ()\n",
    "linha ()\n",
    "linha ()"
   ]
  },
  {
   "cell_type": "code",
   "execution_count": 16,
   "metadata": {},
   "outputs": [
    {
     "name": "stdout",
     "output_type": "stream",
     "text": [
      "azul, vermelho, amarelo\n"
     ]
    }
   ],
   "source": [
    "#2\n",
    "def cores():\n",
    "    cores_primarias = ['azul, vermelho, amarelo']\n",
    "    for cor in cores_primarias:\n",
    "        print(cor)\n",
    "\n",
    "cores()"
   ]
  },
  {
   "cell_type": "code",
   "execution_count": null,
   "metadata": {},
   "outputs": [],
   "source": [
    "#3\n",
    "def tabuada(nr) :\n",
    "    for x in range(11) :\n",
    "        print(f'{nr} x ')"
   ]
  },
  {
   "cell_type": "code",
   "execution_count": null,
   "metadata": {},
   "outputs": [],
   "source": [
    "#4\n",
    "def calculadora(n1, n2, op) :\n",
    "    if op == '+' :\n",
    "        res = n1 + n2\n",
    "    elif op == '-'\n",
    "        res = n1 - n2\n",
    "    elif op == '/'\n",
    "        res = n1 / n2\n",
    "    elif op == '**'\n",
    "        res = n1 ** n2"
   ]
  },
  {
   "cell_type": "code",
   "execution_count": 1,
   "metadata": {},
   "outputs": [
    {
     "name": "stdout",
     "output_type": "stream",
     "text": [
      "GTj1Z2BCOl0FP3oC07jXwctyAwtYBaBhiui08tGpO4Cz6ZbPU8\n"
     ]
    }
   ],
   "source": [
    "import random\n",
    "def senha_aleatoria(tamanho) :\n",
    "    listacaracteres = 'abcdefghijklmnopqrstuvwxyzABCDEFGHIJKLMNOPQRSTUVWXYZ1234567890'\n",
    "    senha = ''\n",
    "    for i in range (tamanho) :\n",
    "        senha = senha + random.choice(listacaracteres)\n",
    "    return (senha)\n",
    "\n",
    "senhatemp = senha_aleatoria(50)\n",
    "print(senhatemp)"
   ]
  },
  {
   "cell_type": "markdown",
   "metadata": {},
   "source": [
    "12/04/2024 - espoco de variaveis (variavel local e global)"
   ]
  },
  {
   "cell_type": "code",
   "execution_count": 3,
   "metadata": {},
   "outputs": [
    {
     "name": "stdout",
     "output_type": "stream",
     "text": [
      "valor antes da funçãosenai\n",
      "o valor dentro da função SESI\n",
      "valor depois da funçãosenai\n"
     ]
    }
   ],
   "source": [
    "def nomeescola () :\n",
    "    escola = 'SESI'\n",
    "    print(f'o valor dentro da função {escola}')\n",
    "\n",
    "escola = 'senai'\n",
    "print(f'valor antes da função{escola}')\n",
    "nomeescola()\n",
    "print(f'valor depois da função{escola}')"
   ]
  },
  {
   "cell_type": "code",
   "execution_count": null,
   "metadata": {},
   "outputs": [],
   "source": [
    "def nomeescola():\n",
    "    global escola :\n",
    "    escola = 'sesi'\n",
    "    print(f'valor dentro da função {escola}')\n",
    "\n",
    "escola = 'senai'\n",
    "print(f'valor antes da função {escola}')\n",
    "nomeescola()\n",
    "print(f'valor depois da função {escola}')"
   ]
  },
  {
   "cell_type": "code",
   "execution_count": 4,
   "metadata": {},
   "outputs": [
    {
     "name": "stdout",
     "output_type": "stream",
     "text": [
      "fora da função 10\n",
      "dentro da função 1\n",
      "dentro da função 10\n"
     ]
    }
   ],
   "source": [
    "x = 10\n",
    "print('fora da função', x)\n",
    "\n",
    "def minhafuncao() :\n",
    "    x = 0\n",
    "    x = x + 1\n",
    "    print('dentro da função', x)\n",
    "\n",
    "minhafuncao() \n",
    "print('dentro da função', x)"
   ]
  },
  {
   "cell_type": "code",
   "execution_count": 3,
   "metadata": {},
   "outputs": [
    {
     "ename": "NameError",
     "evalue": "name 'true' is not defined",
     "output_type": "error",
     "traceback": [
      "\u001b[1;31m---------------------------------------------------------------------------\u001b[0m",
      "\u001b[1;31mNameError\u001b[0m                                 Traceback (most recent call last)",
      "Cell \u001b[1;32mIn[3], line 12\u001b[0m\n\u001b[0;32m      9\u001b[0m \u001b[38;5;28;01mdef\u001b[39;00m \u001b[38;5;21mconsultar\u001b[39m() :\n\u001b[0;32m     10\u001b[0m     \u001b[38;5;28mprint\u001b[39m(\u001b[38;5;124mf\u001b[39m\u001b[38;5;124m'\u001b[39m\u001b[38;5;124mseu saldo R$ \u001b[39m\u001b[38;5;132;01m{\u001b[39;00msaldo\u001b[38;5;132;01m:\u001b[39;00m\u001b[38;5;124m.2f\u001b[39m\u001b[38;5;132;01m}\u001b[39;00m\u001b[38;5;124m'\u001b[39m)\n\u001b[1;32m---> 12\u001b[0m \u001b[38;5;28;01mwhile\u001b[39;00m \u001b[43mtrue\u001b[49m :\n\u001b[0;32m     13\u001b[0m     \u001b[38;5;28mprint\u001b[39m(\u001b[38;5;124m'\u001b[39m\u001b[38;5;124mmenu\u001b[39m\u001b[38;5;124m'\u001b[39m)\n\u001b[0;32m     14\u001b[0m     \u001b[38;5;28mprint\u001b[39m(\u001b[38;5;124m'\u001b[39m\u001b[38;5;124m[1]depositar\u001b[39m\u001b[38;5;124m'\u001b[39m)\n",
      "\u001b[1;31mNameError\u001b[0m: name 'true' is not defined"
     ]
    }
   ],
   "source": [
    "#4\n",
    "saldo = 0 \n",
    "def depositar(valor) :\n",
    "    global saldo\n",
    "    saldo = saldo + valor\n",
    "def sacar(valor) :\n",
    "    global saldo\n",
    "    saldo = saldo - valor\n",
    "def consultar() :\n",
    "    print(f'seu saldo R$ {saldo:.2f}')\n",
    "\n",
    "while true :\n",
    "    print('menu')\n",
    "    print('[1]depositar')\n",
    "    print('[2]sacar')\n",
    "    print('[3]consultar')\n",
    "    print('[4]sair')\n",
    "    opção = input('ddigite a opção menu')\n",
    "    if opção == '1' :\n",
    "        valor = float(input('digite o valor para depositar'))\n",
    "    elif opção == '2' :\n",
    "        valor = float(input('digite um valor para sacar'))\n",
    "    if opção == '3' :\n",
    "        consultar()\n",
    "    else :\n",
    "        break"
   ]
  },
  {
   "cell_type": "code",
   "execution_count": null,
   "metadata": {},
   "outputs": [],
   "source": [
    "caractere = '+'\n",
    "def desenharforma(1, a) :\n",
    "    global caractere\n",
    "    for i in range(a) :\n",
    "        print(caractere * 1)\n",
    "\n",
    "desenharforma(20,5)"
   ]
  }
 ],
 "metadata": {
  "kernelspec": {
   "display_name": "Python 3",
   "language": "python",
   "name": "python3"
  },
  "language_info": {
   "codemirror_mode": {
    "name": "ipython",
    "version": 3
   },
   "file_extension": ".py",
   "mimetype": "text/x-python",
   "name": "python",
   "nbconvert_exporter": "python",
   "pygments_lexer": "ipython3",
   "version": "3.12.2"
  }
 },
 "nbformat": 4,
 "nbformat_minor": 2
}
