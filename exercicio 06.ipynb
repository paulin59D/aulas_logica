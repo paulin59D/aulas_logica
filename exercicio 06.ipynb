{
 "cells": [
  {
   "cell_type": "code",
   "execution_count": 3,
   "metadata": {},
   "outputs": [
    {
     "name": "stdout",
     "output_type": "stream",
     "text": [
      "1\n",
      "3\n",
      "5\n",
      "7\n",
      "9\n",
      "11\n",
      "13\n",
      "15\n",
      "17\n",
      "19\n",
      "21\n",
      "23\n",
      "25\n",
      "27\n",
      "29\n",
      "31\n",
      "33\n",
      "35\n",
      "37\n",
      "39\n"
     ]
    }
   ],
   "source": [
    "#1\n",
    "for x in range (1, 40, 2) :\n",
    "    print(x)"
   ]
  },
  {
   "cell_type": "code",
   "execution_count": 6,
   "metadata": {},
   "outputs": [
    {
     "name": "stdout",
     "output_type": "stream",
     "text": [
      "os numeros sorteados foram 1\n",
      "os numeros sorteados foram 35\n",
      "os numeros sorteados foram 6\n",
      "os numeros sorteados foram 61\n",
      "os numeros sorteados foram 55\n",
      "os numeros sorteados foram 31\n"
     ]
    }
   ],
   "source": [
    "#2 \n",
    "import random\n",
    "for x in range (1, 7) :\n",
    "    x = random.randint (1 , 60)\n",
    "    print(f'os numeros sorteados foram {x}')"
   ]
  },
  {
   "cell_type": "markdown",
   "metadata": {},
   "source": [
    "Receba 5 números e verifique a soma e a quantidade de todos os pares e ímpares digitados"
   ]
  },
  {
   "cell_type": "code",
   "execution_count": null,
   "metadata": {},
   "outputs": [],
   "source": [
    "par = 0\n",
    "impar = 0\n",
    "for nr in range (5) :\n",
    "    numero = int(input('digite um numero'))\n",
    "    if numero % 2 == 0 :\n",
    "        par = numero + par\n",
    "    else :\n",
    "        impar = numero + impar\n",
    "print(f'a soma dos pares {par} e a soma de impares {impar}')"
   ]
  },
  {
   "cell_type": "code",
   "execution_count": 11,
   "metadata": {},
   "outputs": [
    {
     "name": "stdout",
     "output_type": "stream",
     "text": [
      "1\n"
     ]
    }
   ],
   "source": [
    "#4\n",
    "inicio = int(input('digite um numero'))\n",
    "fim = int(input('digite um numero'))\n",
    "passo = int(input('digite um numero'))\n",
    "for x in range (inicio, fim, passo) :\n",
    "    print(x)"
   ]
  },
  {
   "cell_type": "code",
   "execution_count": 16,
   "metadata": {},
   "outputs": [
    {
     "ename": "ValueError",
     "evalue": "invalid literal for int() with base 10: ''",
     "output_type": "error",
     "traceback": [
      "\u001b[1;31m---------------------------------------------------------------------------\u001b[0m",
      "\u001b[1;31mValueError\u001b[0m                                Traceback (most recent call last)",
      "Cell \u001b[1;32mIn[16], line 7\u001b[0m\n\u001b[0;32m      5\u001b[0m qtdd_homi \u001b[38;5;241m=\u001b[39m \u001b[38;5;241m0\u001b[39m\n\u001b[0;32m      6\u001b[0m \u001b[38;5;28;01mfor\u001b[39;00m nr \u001b[38;5;129;01min\u001b[39;00m \u001b[38;5;28mrange\u001b[39m (\u001b[38;5;241m5\u001b[39m) :\n\u001b[1;32m----> 7\u001b[0m     idade \u001b[38;5;241m=\u001b[39m \u001b[38;5;28;43mint\u001b[39;49m\u001b[43m(\u001b[49m\u001b[38;5;28;43minput\u001b[39;49m\u001b[43m(\u001b[49m\u001b[38;5;124;43m'\u001b[39;49m\u001b[38;5;124;43mdigite um numero\u001b[39;49m\u001b[38;5;124;43m'\u001b[39;49m\u001b[43m)\u001b[49m\u001b[43m)\u001b[49m\n\u001b[0;32m      8\u001b[0m     sexo \u001b[38;5;241m=\u001b[39m \u001b[38;5;28mint\u001b[39m(\u001b[38;5;28minput\u001b[39m(\u001b[38;5;124m'\u001b[39m\u001b[38;5;124mdigite o sexo (f/m)\u001b[39m\u001b[38;5;124m'\u001b[39m))\n\u001b[0;32m      9\u001b[0m     \u001b[38;5;28;01mif\u001b[39;00m sexo \u001b[38;5;241m==\u001b[39m \u001b[38;5;124m'\u001b[39m\u001b[38;5;124mf\u001b[39m\u001b[38;5;124m'\u001b[39m :\n",
      "\u001b[1;31mValueError\u001b[0m: invalid literal for int() with base 10: ''"
     ]
    }
   ],
   "source": [
    "#5\n",
    "soma_muie = 0 \n",
    "soma_homi = 0\n",
    "qtdd_muie = 0\n",
    "qtdd_homi = 0\n",
    "for nr in range (5) :\n",
    "    idade = int(input('digite um numero'))\n",
    "    sexo = int(input('digite o sexo (f/m)'))\n",
    "    if sexo == 'f' :\n",
    "        soma_muie = soma_muie + idade\n",
    "        qtdd_muie = qtdd_muie + 1\n",
    "    else :\n",
    "        soma_homi = soma_homi + idade \n",
    "        qtdd_homi = qtdd_homi + 1\n",
    "print(f'media das mulheres {soma_muie / qtdd_muie}')\n",
    "print(f'media das homens {soma_homi / qtdd_homi}')\n",
    "print(f'media do grupo {soma_h9omi / qtdd_homi}')"
   ]
  },
  {
   "cell_type": "code",
   "execution_count": 17,
   "metadata": {},
   "outputs": [
    {
     "name": "stdout",
     "output_type": "stream",
     "text": [
      "7\n",
      "14\n",
      "21\n",
      "28\n",
      "35\n",
      "42\n",
      "49\n",
      "56\n",
      "63\n",
      "70\n",
      "77\n",
      "84\n",
      "91\n",
      "98\n"
     ]
    }
   ],
   "source": [
    "#6\n",
    "for nr in range (5,100) :\n",
    "    if nr % 7 == 0 :\n",
    "        print(nr)\n"
   ]
  }
 ],
 "metadata": {
  "kernelspec": {
   "display_name": "Python 3",
   "language": "python",
   "name": "python3"
  },
  "language_info": {
   "codemirror_mode": {
    "name": "ipython",
    "version": 3
   },
   "file_extension": ".py",
   "mimetype": "text/x-python",
   "name": "python",
   "nbconvert_exporter": "python",
   "pygments_lexer": "ipython3",
   "version": "3.12.2"
  }
 },
 "nbformat": 4,
 "nbformat_minor": 2
}
