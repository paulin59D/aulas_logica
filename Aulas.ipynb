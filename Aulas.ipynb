{
 "cells": [
  {
   "cell_type": "markdown",
   "metadata": {},
   "source": [
    "AULA 16/02/2024 - COMANDOS  DE  SAIDA (print) / TIPOS DE DADOS (string, int, float, bool) / OPERAÇÕES ARITIMETICAS (+ - * / % **)"
   ]
  },
  {
   "cell_type": "code",
   "execution_count": 1,
   "metadata": {},
   "outputs": [
    {
     "name": "stdout",
     "output_type": "stream",
     "text": [
      "string 10 70.5 False\n",
      "60\n",
      "54\n",
      "200\n",
      "5.0\n",
      "10\n",
      "27\n",
      "7.0\n"
     ]
    }
   ],
   "source": [
    "#posso imprimir varias informações ao mesmo tempo sepaeando-se por ,\n",
    "print('string' , 10, 70.5, False)\n",
    "\n",
    "print( 10 + 50 ) #é o operador da soma\n",
    "print( 67 - 13 ) #e o operador da subtração\n",
    "print( 20 * 10 ) # e o operador da multiplicação\n",
    "print( 10 / 2 ) #e o operador da divisão\n",
    "print( 10 % 100) #eo operador da porcentagem\n",
    "print( 3 ** 3) #e o operador da exponenciação\n",
    "print((8 + 6) / 2) #o parenteses define a maior ordem de precendencia\n"
   ]
  },
  {
   "cell_type": "code",
   "execution_count": null,
   "metadata": {},
   "outputs": [],
   "source": [
    "AULA 22/02/2024 - COMANDOS DE ENTRADA (imput)/ variaveis / pseudocódigo"
   ]
  },
  {
   "cell_type": "code",
   "execution_count": 1,
   "metadata": {},
   "outputs": [
    {
     "ename": "SyntaxError",
     "evalue": "invalid syntax (1881893727.py, line 41)",
     "output_type": "error",
     "traceback": [
      "\u001b[1;36m  Cell \u001b[1;32mIn[1], line 41\u001b[1;36m\u001b[0m\n\u001b[1;33m    print(type(nome), type(idade), type (peso))*\u001b[0m\n\u001b[1;37m                                                ^\u001b[0m\n\u001b[1;31mSyntaxError\u001b[0m\u001b[1;31m:\u001b[0m invalid syntax\n"
     ]
    }
   ],
   "source": [
    "#Decorando minha primeira variavel \n",
    "#Lemos da seguinte forma:\n",
    "#variavel curso recebe (=) a string 'desenvolvimento de sistemas'\n",
    "#receba/armazene o texto ''desenvolvimento de sistemas''\n",
    "curso = 'desenvolvimento de sistemas'\n",
    "#Exiba o valor armazenado\n",
    "print(\"curso\")  # para imprimir uma variavel não se coloca entre \" \"\n",
    "print(curso)    #jeito corrente de utilizar uma variavel\n",
    "print(\"curso\", curso )\n",
    "\n",
    "#criamos e atribuindi uma variavel\n",
    "idade = 16\n",
    "temperatura = 22.0\n",
    "nome = \"paulin\"\n",
    "#exiba o valor das variaveis em uma unica linham\n",
    "\n",
    "print(\"ola\", nome , \"voce tem\" , idade , \"anos, hoje esta fazendo\" , temperatura , \"°C\")\n",
    "print(f'ola {nome}, voce tem {idade} anos, hj esta fazendo {temperatura} °C')\n",
    "\n",
    "chovendo = False\n",
    "dia = True\n",
    "#nesta linha abaixo ocorreera um erro pois não existe uma variavel com o nome salario\n",
    "#nome salario, ent não csg encontrar nd p exibir\n",
    "#NameError: nome 'salario' is not defined\n",
    "#print(\"salario\", salario)\n",
    "\n",
    "#declarando um constante, diferentemente da variavel q posso alterar o Valor\n",
    "# na constante n e permitido, declarando com o nome de todos em maiuscula\n",
    "PI = 3.1415\n",
    "\n",
    "nome = 'calister'\n",
    "idade = 15 \n",
    "peso = 63\n",
    "\n",
    "print(f'oi {nome}, vc tem {idade}anos e pesa {peso}kg, é o amor da minha vida <3.')\n",
    " \n",
    "nome = input('qual seu nome')\n",
    "\n",
    "#exibir os tipos de variaveis\n",
    "#tudo q recebermos do input é do tipo de string\n",
    "print(type(nome), type(idade), type (peso))*"
   ]
  },
  {
   "cell_type": "markdown",
   "metadata": {},
   "source": [
    "23/02/2024 - operações com variaveis"
   ]
  },
  {
   "cell_type": "code",
   "execution_count": 9,
   "metadata": {},
   "outputs": [
    {
     "name": "stdout",
     "output_type": "stream",
     "text": [
      "244\n"
     ]
    }
   ],
   "source": [
    "#receber o primeiro numero\n",
    "numero1 = 209\n",
    "#receber o segundo numero\n",
    "numero2 = 35\n",
    "#somar o primeiro numero mais o segundo numero\n",
    "soma = numero1 + numero2\n",
    "#exibir o resultado\n",
    "print(soma)"
   ]
  },
  {
   "cell_type": "code",
   "execution_count": 14,
   "metadata": {},
   "outputs": [
    {
     "name": "stdout",
     "output_type": "stream",
     "text": [
      "6\n"
     ]
    }
   ],
   "source": [
    "numero1 = int (input ('qual é o 1° numero'))\n",
    "numero2 = int (input ('qual é o 2° numero'))\n",
    "multiplicação = (numero1 * numero2)\n",
    "print( multiplicação )"
   ]
  },
  {
   "cell_type": "code",
   "execution_count": 19,
   "metadata": {},
   "outputs": [
    {
     "name": "stdout",
     "output_type": "stream",
     "text": [
      "4500\n"
     ]
    }
   ],
   "source": [
    "cel = int(input('qual o valor do celular'))\n",
    "desc = int(input('quantos reais de desconto'))\n",
    "vfinal = (cel - desc)\n",
    "print(vfinal)"
   ]
  },
  {
   "cell_type": "code",
   "execution_count": 21,
   "metadata": {},
   "outputs": [
    {
     "name": "stdout",
     "output_type": "stream",
     "text": [
      "2.0\n",
      "4.0\n",
      "120.0\n",
      "o valor final é 120.0\n"
     ]
    }
   ],
   "source": [
    "numero = 4 / 2\n",
    "print (numero)\n",
    "numero = numero ** 2\n",
    "print (numero)\n",
    "numero = numero * (50 - 20)\n",
    "print (numero)\n",
    "print (f'o valor final é {numero}')"
   ]
  },
  {
   "cell_type": "code",
   "execution_count": 1,
   "metadata": {},
   "outputs": [
    {
     "name": "stdout",
     "output_type": "stream",
     "text": [
      "vocÊ deve cobrar R$ 1600\n"
     ]
    }
   ],
   "source": [
    "ph = 100\n",
    "termino = 15 * ph\n",
    "hr_pd = 8\n",
    "total = termino + ph\n",
    "print (f'vocÊ deve cobrar R$ {total}')"
   ]
  },
  {
   "cell_type": "markdown",
   "metadata": {},
   "source": [
    "01/03/2024 - operações logicas e estrutura condicional\n"
   ]
  },
  {
   "cell_type": "code",
   "execution_count": null,
   "metadata": {},
   "outputs": [],
   "source": [
    "a = 2 \n",
    "b = 3 \n",
    "c = 5\n",
    "# false ffalse\n",
    "print((a>2) or (b<2)) #false\n",
    "\n",
    "idade = 18\n",
    "print(idade > 18 or idade == 18) #true\n"
   ]
  },
  {
   "cell_type": "markdown",
   "metadata": {},
   "source": [
    "07/03/2024 - estruturas condicionais animada / match case"
   ]
  },
  {
   "cell_type": "code",
   "execution_count": 11,
   "metadata": {},
   "outputs": [
    {
     "name": "stdout",
     "output_type": "stream",
     "text": [
      "voce e obrigado a votar\n"
     ]
    }
   ],
   "source": [
    "idade = int(input('digite sua idade'))\n",
    "if idade >= 18 and idade <= 70:\n",
    "    print('voce e obrigado a votar')\n",
    "else:\n",
    "    if idade < 16 :\n",
    "        print('voce não pode votar')\n",
    "    else:\n",
    "        if idade >= 16 or idade > 70 :\n",
    "           print('seu voto e facultativo')\n"
   ]
  },
  {
   "cell_type": "code",
   "execution_count": 23,
   "metadata": {},
   "outputs": [
    {
     "name": "stdout",
     "output_type": "stream",
     "text": [
      "`2 ** 2 = 4\n"
     ]
    }
   ],
   "source": [
    "n1 = int(input('digite o n1'))\n",
    "n2 = int(input('digite o n2'))\n",
    "operador = input('digite o operador +-*/**')\n",
    "\n",
    "\n",
    "match operador:\n",
    "    case '+' :\n",
    "        print(f'{n1} + {n2} = {n1 + n2}')\n",
    "    case '-' :\n",
    "        print(f'{n1} - {n2} = {n1 - n2}')\n",
    "    case '*' :\n",
    "        print(f'{n1} * {n2} = {n1 * n2}')\n",
    "    case '/' :\n",
    "        print(f'{n1} / {n2} = {n1 / n2}')\n",
    "    case '**' :\n",
    "        print(f'{n1} ** {n2} = {n1 ** n2}')\n"
   ]
  },
  {
   "cell_type": "code",
   "execution_count": 2,
   "metadata": {},
   "outputs": [
    {
     "name": "stdout",
     "output_type": "stream",
     "text": [
      "error 404\n"
     ]
    }
   ],
   "source": [
    "#1 \n",
    "nu = int(input('digite um numero 1 - 7'))\n",
    "match nu :\n",
    "    case 1:\n",
    "        print('segunda')\n",
    "    case 2:\n",
    "        print('terça')\n",
    "    case 3:\n",
    "        print('quarta')\n",
    "    case 4:\n",
    "        print('quinta')\n",
    "    case 5:\n",
    "        print('sexta')\n",
    "    case 6:\n",
    "        print('sabado')\n",
    "    case 7:\n",
    "        print('domingo')\n",
    "if nu > 7 :\n",
    "    print('error 404')"
   ]
  },
  {
   "cell_type": "code",
   "execution_count": 14,
   "metadata": {},
   "outputs": [
    {
     "name": "stdout",
     "output_type": "stream",
     "text": [
      "adolescente\n"
     ]
    }
   ],
   "source": [
    "#2\n",
    "data = int(input('digite seu ano de nascimento'))\n",
    "idade = 2024 - data\n",
    "\n",
    "if data < 10 :\n",
    "    print('criança')\n",
    "elif data > 10 or data <= 17 :\n",
    "    print('adolescente')\n",
    "elif data > 17 or data <=60 :\n",
    "    print('adulto') \n",
    "else :\n",
    "    print('idoso')"
   ]
  },
  {
   "cell_type": "code",
   "execution_count": 26,
   "metadata": {},
   "outputs": [
    {
     "name": "stdout",
     "output_type": "stream",
     "text": [
      "28\n"
     ]
    }
   ],
   "source": [
    "#3 \n",
    "mes = (input('digite um mes'))\n",
    "match mes :\n",
    "    case 'janeiro' :\n",
    "        print(31)\n",
    "    case 'fevereiro' :\n",
    "        print(28)\n",
    "    case 'março' :\n",
    "        print(31)\n",
    "    case 'abril' :\n",
    "        print(30)\n",
    "    case 'maio' :\n",
    "        print(31)\n",
    "    case 'junho' :\n",
    "        print(30)\n",
    "    case 'julho' :\n",
    "        print(31)\n",
    "    case 'agosto' :\n",
    "        print(31)\n",
    "    case 'setembro' :\n",
    "        print(30)\n",
    "    case 'outubro' :\n",
    "        print(31)\n",
    "    case 'novembro' :\n",
    "        print(30)\n",
    "    case 'dezembro' :\n",
    "        print(31)"
   ]
  },
  {
   "cell_type": "code",
   "execution_count": 17,
   "metadata": {},
   "outputs": [
    {
     "name": "stdout",
     "output_type": "stream",
     "text": [
      "recuperação\n"
     ]
    }
   ],
   "source": [
    "n1 = int(input('digite a nota 1'))\n",
    "n2 = int(input('digite a nota 2'))\n",
    "nota = (n1 + n2) / 2\n",
    "if nota < 5 :\n",
    "    print('reprovado')\n",
    "elif nota >= 5 or nota <= 7 :\n",
    "    print('recuperação')\n",
    "else :\n",
    "    print ('aprovado')\n"
   ]
  },
  {
   "cell_type": "code",
   "execution_count": null,
   "metadata": {},
   "outputs": [],
   "source": [
    "#5\n",
    "salario  = float(input('digite o salario'))\n",
    "if salario <= 2000 :\n",
    "    aumento = salario * 0.12\n",
    "elif salario < 4000 :\n",
    "    aumento = salario * 0.10\n",
    "else :\n",
    "    aumento = salario * 0.08\n",
    "    "
   ]
  },
  {
   "cell_type": "code",
   "execution_count": null,
   "metadata": {},
   "outputs": [],
   "source": [
    "salario  = float(input('digite o salario'))\n",
    "if salario <= 2259 :\n",
    "    desconto_irpf = 0\n",
    "elif salario <= 2826.65 :\n",
    "    desconto_irpf = salario * 0.075\n",
    "elif salario <= 3751.05 :\n",
    "    desconto_irpf = salario * 0.15\n",
    "elif salario <= 4664.68 :\n",
    "    desconto_irpf = salario * 0.225\n",
    "else :\n",
    "    desconto_irpf = salario * 0.275\n",
    "\n",
    "\n",
    "\n",
    "if salario <= 1412 :\n",
    "    desconto_inss = 0.075\n",
    "elif salario <= 2666.68 :\n",
    "    desconto_inss = salario * 0.09\n",
    "elif salario <= 4000.03 :\n",
    "    desconto_inss = salario * 0.12\n",
    "elif salario <= 7786.02 :\n",
    "    desconto_inss = salario * 0.225\n",
    "else :\n",
    "    desconto_inss = 908.85\n",
    "\n",
    "salario_liquido = salario - desconto_irpf\n",
    "print(f'seu salario liquido sera: r${salario_liquido: .2f}')\n",
    "\n"
   ]
  },
  {
   "cell_type": "code",
   "execution_count": 11,
   "metadata": {},
   "outputs": [
    {
     "name": "stdout",
     "output_type": "stream",
     "text": [
      "10\n",
      "9\n",
      "8\n",
      "7\n",
      "6\n",
      "5\n",
      "4\n",
      "3\n",
      "2\n",
      "1\n",
      "0\n",
      "feliz ano novo🎆✨\n"
     ]
    }
   ],
   "source": [
    "import time\n",
    "x = 10\n",
    "while x >= 0 :\n",
    "    print(x)\n",
    "    time.sleep(0.5)\n",
    "    x = x - 1\n",
    "print('feliz ano novo🎆✨')\n"
   ]
  },
  {
   "cell_type": "code",
   "execution_count": 14,
   "metadata": {},
   "outputs": [
    {
     "name": "stdout",
     "output_type": "stream",
     "text": [
      "hacked for sucess...\n",
      "FIM\n"
     ]
    }
   ],
   "source": [
    "senha_senai = '12345'\n",
    "while True :\n",
    "    senha = input('qual e a senha🤨? ´´desisto`` para sair🔒')\n",
    "    if senha == senha_senai :\n",
    "        print('hacked for sucess...')\n",
    "        break\n",
    "    if senha_senai == 'desisto' :\n",
    "        break\n",
    "    else :\n",
    "        nr_tentativas = nr_tentativas + 1\n",
    "        if nr_tentativas == 3 :\n",
    "            print('voce esta tentando hackear rede')\n",
    "print('FIM')"
   ]
  },
  {
   "cell_type": "code",
   "execution_count": 19,
   "metadata": {},
   "outputs": [
    {
     "name": "stdout",
     "output_type": "stream",
     "text": [
      "9\n",
      "꧁么愛ﮩ٨ـﮩぁ༬ﮩ٨ـ么ホ么炎乡々ぁ༬ネﾠ愛꧂\n",
      "    \n",
      "       🕵️‍♀️ JOGO DA ADIVINHAÇÃO 🤔\n",
      "    \n",
      "꧁么愛ﮩ٨ـﮩぁ༬ﮩ٨ـ么ホ么炎乡々ぁ༬ネﾠ愛꧂\n",
      "você chutou o numero 2.tente um numero 👆\n",
      "você chutou o numero 3.tente um numero 👆\n",
      "você chutou o numero 50.tente um numero 👇\n",
      "você chutou o numero 40.tente um numero 👇\n",
      "você chutou o numero 30.tente um numero 👇\n",
      "você chutou o numero 20.tente um numero 👇\n",
      "você chutou o numero 10.tente um numero 👇\n",
      "você escolheu o numero 9. amasso meu nobre, cagou🤑!!!\n"
     ]
    },
    {
     "ename": "NameError",
     "evalue": "name 'true' is not defined",
     "output_type": "error",
     "traceback": [
      "\u001b[1;31m---------------------------------------------------------------------------\u001b[0m",
      "\u001b[1;31mNameError\u001b[0m                                 Traceback (most recent call last)",
      "Cell \u001b[1;32mIn[19], line 16\u001b[0m\n\u001b[0;32m     14\u001b[0m \u001b[38;5;28;01mif\u001b[39;00m chute \u001b[38;5;241m==\u001b[39m nrSorteado :\n\u001b[0;32m     15\u001b[0m     \u001b[38;5;28mprint\u001b[39m(\u001b[38;5;124mf\u001b[39m\u001b[38;5;124m'\u001b[39m\u001b[38;5;124mvocê escolheu o numero \u001b[39m\u001b[38;5;132;01m{\u001b[39;00mchute\u001b[38;5;132;01m}\u001b[39;00m\u001b[38;5;124m. amasso meu nobre, cagou🤑!!!\u001b[39m\u001b[38;5;124m'\u001b[39m)\n\u001b[1;32m---> 16\u001b[0m     acertou \u001b[38;5;241m=\u001b[39m \u001b[43mtrue\u001b[49m\n\u001b[0;32m     17\u001b[0m \u001b[38;5;28;01melif\u001b[39;00m chute \u001b[38;5;241m>\u001b[39m nrSorteado :\n\u001b[0;32m     18\u001b[0m     \u001b[38;5;28mprint\u001b[39m(\u001b[38;5;124mf\u001b[39m\u001b[38;5;124m'\u001b[39m\u001b[38;5;124mvocê chutou o numero \u001b[39m\u001b[38;5;132;01m{\u001b[39;00mchute\u001b[38;5;132;01m}\u001b[39;00m\u001b[38;5;124m.tente um numero 👇\u001b[39m\u001b[38;5;124m'\u001b[39m)\n",
      "\u001b[1;31mNameError\u001b[0m: name 'true' is not defined"
     ]
    }
   ],
   "source": [
    "import random\n",
    "nrSorteado = random.randint(1, 100)\n",
    "print(nrSorteado)\n",
    "\n",
    "print('꧁么愛ﮩ٨ـﮩぁ༬ﮩ٨ـ么ホ么炎乡々ぁ༬ネﾠ愛꧂')\n",
    "print('    ')  \n",
    "print('       🕵️‍♀️ JOGO DA ADIVINHAÇÃO 🤔')\n",
    "print('    ')\n",
    "print('꧁么愛ﮩ٨ـﮩぁ༬ﮩ٨ـ么ホ么炎乡々ぁ༬ネﾠ愛꧂')\n",
    "\n",
    "acertou = False\n",
    "while acertou == False :\n",
    "    chute = int(input('🕵️‍♀️ digite o numero entre 1 e 100 🕵️‍♀️'))\n",
    "    if chute == nrSorteado :\n",
    "        print(f'você escolheu o numero {chute}. amasso meu nobre, cagou🤑!!!')\n",
    "        acertou = true\n",
    "    elif chute > nrSorteado :\n",
    "        print(f'você chutou o numero {chute}.tente um numero 👇')\n",
    "    else :\n",
    "        print(f'você chutou o numero {chute}.tente um numero 👆')"
   ]
  },
  {
   "cell_type": "markdown",
   "metadata": {},
   "source": [
    "22/03/2024 - for"
   ]
  },
  {
   "cell_type": "code",
   "execution_count": 35,
   "metadata": {},
   "outputs": [
    {
     "name": "stdout",
     "output_type": "stream",
     "text": [
      "0\n",
      "1\n",
      "2\n",
      "3\n",
      "4\n"
     ]
    }
   ],
   "source": [
    "for x in range (5) :\n",
    "    print(x)"
   ]
  },
  {
   "cell_type": "code",
   "execution_count": 39,
   "metadata": {},
   "outputs": [
    {
     "name": "stdout",
     "output_type": "stream",
     "text": [
      "entregando os notbooks\n"
     ]
    },
    {
     "ename": "ValueError",
     "evalue": "invalid literal for int() with base 10: 's'",
     "output_type": "error",
     "traceback": [
      "\u001b[1;31m---------------------------------------------------------------------------\u001b[0m",
      "\u001b[1;31mValueError\u001b[0m                                Traceback (most recent call last)",
      "Cell \u001b[1;32mIn[39], line 5\u001b[0m\n\u001b[0;32m      3\u001b[0m nr \u001b[38;5;241m=\u001b[39m nr \u001b[38;5;241m+\u001b[39m \u001b[38;5;241m1\u001b[39m\n\u001b[0;32m      4\u001b[0m nome \u001b[38;5;241m=\u001b[39m \u001b[38;5;28minput\u001b[39m(\u001b[38;5;124mf\u001b[39m\u001b[38;5;124m'\u001b[39m\u001b[38;5;124mquem é o n° \u001b[39m\u001b[38;5;132;01m{\u001b[39;00mnr\u001b[38;5;132;01m}\u001b[39;00m\u001b[38;5;124m'\u001b[39m)\n\u001b[1;32m----> 5\u001b[0m presente \u001b[38;5;241m=\u001b[39m \u001b[38;5;28;43mint\u001b[39;49m\u001b[43m(\u001b[49m\u001b[38;5;28;43minput\u001b[39;49m\u001b[43m(\u001b[49m\u001b[38;5;124;43mf\u001b[39;49m\u001b[38;5;124;43m'\u001b[39;49m\u001b[38;5;124;43mo (a) \u001b[39;49m\u001b[38;5;132;43;01m{\u001b[39;49;00m\u001b[43mnome\u001b[49m\u001b[38;5;132;43;01m}\u001b[39;49;00m\u001b[38;5;124;43m veio para a escola?\u001b[39;49m\u001b[38;5;124;43m'\u001b[39;49m\u001b[43m)\u001b[49m\u001b[43m)\u001b[49m\n\u001b[0;32m      6\u001b[0m \u001b[38;5;28;01mif\u001b[39;00m presente \u001b[38;5;241m==\u001b[39m \u001b[38;5;124m'\u001b[39m\u001b[38;5;124ms\u001b[39m\u001b[38;5;124m'\u001b[39m :\n\u001b[0;32m      7\u001b[0m     \u001b[38;5;28mprint\u001b[39m(\u001b[38;5;124mf\u001b[39m\u001b[38;5;124m'\u001b[39m\u001b[38;5;124mpegar o notebook \u001b[39m\u001b[38;5;132;01m{\u001b[39;00mnr\u001b[38;5;132;01m}\u001b[39;00m\u001b[38;5;124m'\u001b[39m)\n",
      "\u001b[1;31mValueError\u001b[0m: invalid literal for int() with base 10: 's'"
     ]
    }
   ],
   "source": [
    "print ('entregando os notbooks')\n",
    "for nr in range (32) :\n",
    "    nr = nr + 1\n",
    "    nome = input(f'quem é o n° {nr}')\n",
    "    presente = int(input(f'o (a) {nome} veio para a escola?'))\n",
    "    if presente == 's' :\n",
    "        print(f'pegar o notebook {nr}')\n",
    "        print(f'pegar o mouse {nr}')\n",
    "        print(f'levar o notebook ate o(a){nome}')\n",
    "    else :\n",
    "        print(f'não pegar o notebook {nr}')\n",
    "\n"
   ]
  },
  {
   "cell_type": "code",
   "execution_count": 41,
   "metadata": {},
   "outputs": [
    {
     "name": "stdout",
     "output_type": "stream",
     "text": [
      "5\n",
      "7\n",
      "9\n",
      "11\n",
      "13\n",
      "15\n",
      "17\n",
      "19\n",
      "21\n",
      "23\n",
      "25\n",
      "27\n",
      "29\n"
     ]
    }
   ],
   "source": [
    "for x in range (5, 30, 2) :\n",
    "    print(x)"
   ]
  },
  {
   "cell_type": "code",
   "execution_count": 43,
   "metadata": {},
   "outputs": [
    {
     "name": "stdout",
     "output_type": "stream",
     "text": [
      "157 X 0 = 0\n",
      "157 X 1 = 157\n",
      "157 X 2 = 314\n",
      "157 X 3 = 471\n",
      "157 X 4 = 628\n",
      "157 X 5 = 785\n",
      "157 X 6 = 942\n",
      "157 X 7 = 1099\n",
      "157 X 8 = 1256\n",
      "157 X 9 = 1413\n",
      "157 X 10 = 1570\n"
     ]
    }
   ],
   "source": [
    "n = int(input('digite o nr:'))\n",
    "for x in range (11) :\n",
    "    print(f'{n} X {x} = {n*x}')"
   ]
  },
  {
   "cell_type": "code",
   "execution_count": 12,
   "metadata": {},
   "outputs": [
    {
     "name": "stdout",
     "output_type": "stream",
     "text": [
      "0\n",
      "1\n",
      "2\n",
      "3\n",
      "4\n",
      "5\n",
      "6\n",
      "7\n",
      "8\n",
      "9\n"
     ]
    }
   ],
   "source": [
    "for x in range (100) :\n",
    "    if x == 10 :\n",
    "        break\n",
    "    print(x)"
   ]
  },
  {
   "cell_type": "markdown",
   "metadata": {},
   "source": [
    "28/03/2024 - variaveis compostas - vetores / listas"
   ]
  },
  {
   "cell_type": "code",
   "execution_count": 3,
   "metadata": {},
   "outputs": [
    {
     "name": "stdout",
     "output_type": "stream",
     "text": [
      "banana\n"
     ]
    }
   ],
   "source": [
    "fruta = ['maça', 'banana', 'abacaxi', 'uva']\n",
    "print(fruta [1])\n",
    "\n",
    "# LISTA VAZIA\n",
    "\n",
    "lista_vazia = []\n",
    "\n",
    "#lista de numeros\n",
    "\n",
    "Numeros = [ 5, 8, 10, 40 ]\n",
    "\n",
    "#lista de strings\n",
    "\n",
    "nomes = ['ana', 'joao', 'maria']\n",
    "\n",
    "# declaração de uma lista mista\n",
    "\n",
    "lista_mista = [1, 'teste', True, 3.5]"
   ]
  },
  {
   "cell_type": "code",
   "execution_count": 6,
   "metadata": {},
   "outputs": [
    {
     "name": "stdout",
     "output_type": "stream",
     "text": [
      "['maça', 'banana', 'abacaxi', 'melancia']\n"
     ]
    },
    {
     "ename": "AttributeError",
     "evalue": "'list' object has no attribute 'apeend'",
     "output_type": "error",
     "traceback": [
      "\u001b[1;31m---------------------------------------------------------------------------\u001b[0m",
      "\u001b[1;31mAttributeError\u001b[0m                            Traceback (most recent call last)",
      "Cell \u001b[1;32mIn[6], line 7\u001b[0m\n\u001b[0;32m      4\u001b[0m \u001b[38;5;28mprint\u001b[39m(fruta)\n\u001b[0;32m      6\u001b[0m \u001b[38;5;66;03m#incluindo um novo item no final da lista\u001b[39;00m\n\u001b[1;32m----> 7\u001b[0m \u001b[43mfruta\u001b[49m\u001b[38;5;241;43m.\u001b[39;49m\u001b[43mapeend\u001b[49m(\u001b[38;5;124m'\u001b[39m\u001b[38;5;124mlaranja\u001b[39m\u001b[38;5;124m'\u001b[39m)\n\u001b[0;32m      8\u001b[0m \u001b[38;5;28mprint\u001b[39m(fruta)\n\u001b[0;32m     10\u001b[0m \u001b[38;5;66;03m#incluindo novo item em uma posição especifica\u001b[39;00m\n",
      "\u001b[1;31mAttributeError\u001b[0m: 'list' object has no attribute 'apeend'"
     ]
    }
   ],
   "source": [
    "fruta = ['maça', 'banana', 'abacaxi', 'uva']\n",
    "\n",
    "fruta[3] = 'melancia'\n",
    "print(fruta)\n",
    "\n",
    "#incluindo um novo item no final da lista\n",
    "fruta.apeend('laranja')\n",
    "print(fruta)\n",
    "\n",
    "#incluindo novo item em uma posição especifica\n",
    "fruta.insert(2, 'morango')\n",
    "print(fruta)\n",
    "\n",
    "#excluindo item da lista\n",
    "#del fruta[3]\n",
    "#fruta.pop[3]\n",
    "fruta.remove('abacaxi')\n",
    "#excluindo ultimo item da lista\n",
    "fruta.pop()\n",
    "print(fruta)"
   ]
  },
  {
   "cell_type": "code",
   "execution_count": 7,
   "metadata": {},
   "outputs": [
    {
     "name": "stdout",
     "output_type": "stream",
     "text": [
      "melancia\n",
      "['maça', 'banana', 'morango', 'abacaxi']\n",
      "['banana', 'morango', 'abacaxi', 'melancia', 'laranjauva']\n",
      "laranjauva\n",
      "6\n",
      "['abacaxi', 'banana', 'laranjauva', 'maça', 'melancia', 'morango']\n",
      "['morango', 'melancia', 'maça', 'laranjauva', 'banana', 'abacaxi']\n"
     ]
    }
   ],
   "source": [
    "fruta = ['maça', 'banana', 'morango', 'abacaxi', 'melancia', 'laranja' 'uva']\n",
    "print(fruta[4]) #posição especifica\n",
    "print(fruta[0:4]) #posição 0 pegar o 4 itens\n",
    "print(fruta[1:]) #posição 2 ate o ultimo\n",
    "print(fruta[-1]) # nr de item do inicio ao fim\n",
    "print(len(fruta)) # total de itens na lista\n",
    "\n",
    "fruta.sort() #ordenando lista de ordem crescente\n",
    "print(fruta)\n",
    "\n",
    "fruta.reverse() #ordenando lista de ordem crescente\n",
    "print(fruta)"
   ]
  },
  {
   "cell_type": "markdown",
   "metadata": {},
   "source": [
    "aula 04/04/2024 - itaração em lista"
   ]
  },
  {
   "cell_type": "code",
   "execution_count": 20,
   "metadata": {},
   "outputs": [
    {
     "name": "stdout",
     "output_type": "stream",
     "text": [
      "  é um simbolo\n"
     ]
    }
   ],
   "source": [
    "#criando uma lista de vogais\n",
    "vogais = ['a', 'e', 'i', 'o', 'u']\n",
    "letra = input('digite uma letra')\n",
    "consoantes = ['b', 'c', 'd', 'f', 'g', 'h', 'j', 'k', 'l', 'm', 'n', 'p', 'q', 'r', 's', 't', 'v', 'w', 'x', 'y', 'z']\n",
    "numeros = ['1', '2', '3', '4', '5', '6', '7', '7', '8', '9']\n",
    "#o metodo .lower() deixa todas as letras maiusculas\n",
    "#o metodo .upper() deixa todas as letras minusculas\n",
    "#letras da seguinte forma:\n",
    "#se a letra em MINUSCULO ESTIVER na lista de vogais ENTÂO \n",
    "if letra.lower() in vogais :\n",
    "    print(f'{letra} é uma vogal')\n",
    "elif letra.lower() in consoantes :\n",
    "    print(f'{letra} é uma consoante')\n",
    "elif letra.lower() in numeros :\n",
    "    print(f'{letra} é um numero')\n",
    "\n",
    "else :\n",
    "    print(f'{letra} é um simbolo')\n",
    " "
   ]
  },
  {
   "cell_type": "code",
   "execution_count": 21,
   "metadata": {},
   "outputs": [
    {
     "name": "stdout",
     "output_type": "stream",
     "text": [
      "messi\n",
      "cristiano ronaldo\n",
      "maradona\n",
      "pelé\n"
     ]
    }
   ],
   "source": [
    "nomelist = ['messi', 'cristiano ronaldo', 'maradona', 'pelé']\n",
    "for nome in nomelist :\n",
    "    print(nome)"
   ]
  },
  {
   "cell_type": "code",
   "execution_count": 24,
   "metadata": {},
   "outputs": [
    {
     "name": "stdout",
     "output_type": "stream",
     "text": [
      "6\n"
     ]
    }
   ],
   "source": [
    "numerolist = [4, 2, 5, 9, 6]\n",
    "soma = 0\n",
    "for nr in numerolist :\n",
    "    soma = soma + nr\n",
    "print(nr)"
   ]
  },
  {
   "cell_type": "code",
   "execution_count": 25,
   "metadata": {},
   "outputs": [
    {
     "name": "stdout",
     "output_type": "stream",
     "text": [
      "a fruta maçã esta na posição 0\n",
      "a fruta banana esta na posição 1\n",
      "a fruta abacaxi esta na posição 2\n",
      "a fruta uva esta na posição 3\n"
     ]
    }
   ],
   "source": [
    "frutlist = ['maçã', 'banana', 'abacaxi', 'uva']\n",
    "for pos, fruta in enumerate (frutlist) :\n",
    "    print(f'a fruta {fruta} esta na posição {pos}')"
   ]
  },
  {
   "cell_type": "code",
   "execution_count": 26,
   "metadata": {},
   "outputs": [
    {
     "name": "stdout",
     "output_type": "stream",
     "text": [
      "celular\n",
      "tv\n",
      "notbook\n",
      "tablet\n",
      "headset\n"
     ]
    }
   ],
   "source": [
    "produtos = 'celular,tv,notbook,tablet,headset'\n",
    "produtoslist = produtos.split (',')\n",
    "for produto in produtoslist :\n",
    "    print(produto)"
   ]
  },
  {
   "cell_type": "markdown",
   "metadata": {},
   "source": [
    "11/04/2024 - funções\n"
   ]
  },
  {
   "cell_type": "code",
   "execution_count": 2,
   "metadata": {},
   "outputs": [
    {
     "name": "stdout",
     "output_type": "stream",
     "text": [
      "--------------------\n",
      "    SESI / SENAI\n",
      "--------------------\n"
     ]
    }
   ],
   "source": [
    "print('-' * 20 )\n",
    "print('    SESI / SENAI')\n",
    "print('-' * 20 )"
   ]
  },
  {
   "cell_type": "code",
   "execution_count": 11,
   "metadata": {},
   "outputs": [
    {
     "name": "stdout",
     "output_type": "stream",
     "text": [
      "❤❤❤❤❤❤❤❤❤❤❤❤❤❤❤❤❤❤❤❤\n",
      "samanda vidoca\n",
      "❤❤❤❤❤❤❤❤❤❤❤❤❤❤❤❤❤❤❤❤\n"
     ]
    }
   ],
   "source": [
    "def linha () :\n",
    "    print('❤' * 20)\n",
    "\n",
    "linha ()\n",
    "print('samanda vidoca')\n",
    "linha ()\n"
   ]
  },
  {
   "cell_type": "code",
   "execution_count": 9,
   "metadata": {},
   "outputs": [
    {
     "name": "stdout",
     "output_type": "stream",
     "text": [
      "--------------------\n",
      "    SESI / SENAI\n",
      "--------------------\n"
     ]
    }
   ],
   "source": [
    "def cabeçalho() :\n",
    "    print('-' * 20 )\n",
    "    print('    SESI / SENAI')\n",
    "    print('-' * 20 )\n",
    "\n",
    "cabeçalho ()"
   ]
  },
  {
   "cell_type": "code",
   "execution_count": 23,
   "metadata": {},
   "outputs": [
    {
     "name": "stdout",
     "output_type": "stream",
     "text": [
      "ola a tenha um bom dia\n",
      "ola  tenha um bom dia\n",
      "ola a tenha um bom dia\n"
     ]
    }
   ],
   "source": [
    "def saudacao() :\n",
    "    frase = input('digite seu nome')\n",
    "    print(f'ola {frase} tenha um bom dia')\n",
    "   \n",
    "saudacao()\n",
    "saudacao()\n",
    "saudacao()\n",
    "\n"
   ]
  },
  {
   "cell_type": "code",
   "execution_count": 25,
   "metadata": {},
   "outputs": [
    {
     "name": "stdout",
     "output_type": "stream",
     "text": [
      "a soma de 1 + 2 é 3\n"
     ]
    }
   ],
   "source": [
    "def soma(n1, n2) :\n",
    "    resp = n1 + n2\n",
    "    print(f'a soma de {n1} + {n2} é {resp}')\n",
    "\n",
    "soma(1, 2)"
   ]
  },
  {
   "cell_type": "code",
   "execution_count": 27,
   "metadata": {},
   "outputs": [
    {
     "name": "stdout",
     "output_type": "stream",
     "text": [
      "é impar\n"
     ]
    }
   ],
   "source": [
    "def parimpar(n1):\n",
    "    if n1 % 2 == 0 :\n",
    "        print('e par')\n",
    "    else: \n",
    "        print('é impar')\n",
    "\n",
    "parimpar(int(input('digite um numero')))"
   ]
  },
  {
   "cell_type": "code",
   "execution_count": 31,
   "metadata": {},
   "outputs": [
    {
     "data": {
      "text/plain": [
       "7.5"
      ]
     },
     "execution_count": 31,
     "metadata": {},
     "output_type": "execute_result"
    }
   ],
   "source": [
    "def media(n1, n2) :\n",
    "    resp = (n1 + n2) / 2\n",
    "    return(resp)\n",
    "\n",
    "media(10, 5) "
   ]
  },
  {
   "cell_type": "code",
   "execution_count": 44,
   "metadata": {},
   "outputs": [
    {
     "name": "stdout",
     "output_type": "stream",
     "text": [
      "26/9/2007\n"
     ]
    }
   ],
   "source": [
    "def formatardata (d, m, a) :\n",
    "    data = (f'{d}/{m}/{a}')\n",
    "    return(data)\n",
    "\n",
    "print(formatardata(26, 9, 2007))\n"
   ]
  },
  {
   "cell_type": "code",
   "execution_count": 50,
   "metadata": {},
   "outputs": [
    {
     "name": "stdout",
     "output_type": "stream",
     "text": [
      "**************************************************\n",
      "seja bem vindo\n",
      "**************************************************\n",
      "seja bem vindo\n",
      "**************************************************\n",
      "seja bem vindo\n",
      "**************************************************\n",
      "seja bem vindo\n"
     ]
    }
   ],
   "source": [
    "def linha () :\n",
    "    print('*' * 50 )\n",
    "    print('seja bem vindo')\n",
    "\n",
    "linha ()\n",
    "linha ()\n",
    "linha ()\n",
    "linha ()"
   ]
  }
 ],
 "metadata": {
  "kernelspec": {
   "display_name": "Python 3",
   "language": "python",
   "name": "python3"
  },
  "language_info": {
   "codemirror_mode": {
    "name": "ipython",
    "version": 3
   },
   "file_extension": ".py",
   "mimetype": "text/x-python",
   "name": "python",
   "nbconvert_exporter": "python",
   "pygments_lexer": "ipython3",
   "version": "3.12.2"
  }
 },
 "nbformat": 4,
 "nbformat_minor": 2
}
